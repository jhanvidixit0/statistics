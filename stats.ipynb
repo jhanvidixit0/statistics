{
  "nbformat": 4,
  "nbformat_minor": 0,
  "metadata": {
    "colab": {
      "provenance": []
    },
    "kernelspec": {
      "name": "python3",
      "display_name": "Python 3"
    },
    "language_info": {
      "name": "python"
    }
  },
  "cells": [
    {
      "cell_type": "markdown",
      "source": [
        "Q1) Generate a list of 100 integers containing values between 90 to 130 and store it in the variable `int_list`.\n",
        "After generating the list, find the following:\n",
        "\n",
        "  \n",
        "\n",
        "  (i) Write a Python function to calculate the mean of a given list of numbers.\n",
        "\n",
        "Create a function to find the median of a list of numbers.\n",
        "\n",
        "  \n",
        "\n",
        "  (ii) Develop a program to compute the mode of a list of integers.\n",
        "\n",
        "  \n",
        "\n",
        "  (iii) Implement a function to calculate the weighted mean of a list of values and their corresponding weights.\n",
        "\n",
        "  \n",
        "\n",
        "  (iv) Write a Python function to find the geometric mean of a list of positive numbers.\n",
        "\n",
        "  \n",
        "\n",
        "  (v) Create a program to calculate the harmonic mean of a list of values.\n",
        "\n",
        "  \n",
        "\n",
        "  (vi) Build a function to determine the midrange of a list of numbers (average of the minimum and maximum).\n",
        "\n",
        "  \n",
        "\n",
        "  (vii) Implement a Python program to find the trimmed mean of a list, excluding a certain percentage of\n",
        "outliers."
      ],
      "metadata": {
        "id": "ql1uz-1bmONq"
      }
    },
    {
      "cell_type": "code",
      "source": [
        "import random\n",
        "import statistics\n",
        "import numpy as np\n",
        "\n",
        "# Generate a list of 100 integers between 90 and 130\n",
        "int_list = [random.randint(90, 130) for _ in range(100)]\n",
        "\n",
        "# (i) Function to calculate the mean of a list\n",
        "def calculate_mean(numbers):\n",
        "    return sum(numbers) / len(numbers)\n",
        "\n",
        "# Function to calculate the median of a list\n",
        "def calculate_median(numbers):\n",
        "    sorted_numbers = sorted(numbers)\n",
        "    n = len(sorted_numbers)\n",
        "    mid = n // 2\n",
        "    if n % 2 == 0:  # If even, average the middle two elements\n",
        "        return (sorted_numbers[mid - 1] + sorted_numbers[mid]) / 2\n",
        "    else:  # If odd, return the middle element\n",
        "        return sorted_numbers[mid]\n",
        "\n",
        "# (ii) Function to compute the mode of a list\n",
        "def calculate_mode(numbers):\n",
        "    return statistics.mode(numbers)\n",
        "\n",
        "# (iii) Function to calculate the weighted mean\n",
        "def calculate_weighted_mean(values, weights):\n",
        "    return sum(value * weight for value, weight in zip(values, weights)) / sum(weights)\n",
        "\n",
        "# (iv) Function to find the geometric mean\n",
        "def calculate_geometric_mean(numbers):\n",
        "    product = np.prod(numbers)\n",
        "    return product ** (1 / len(numbers))\n",
        "\n",
        "# (v) Function to calculate the harmonic mean\n",
        "def calculate_harmonic_mean(numbers):\n",
        "    return len(numbers) / sum(1 / num for num in numbers)\n",
        "\n",
        "# (vi) Function to determine the midrange\n",
        "def calculate_midrange(numbers):\n",
        "    return (min(numbers) + max(numbers)) / 2\n",
        "\n",
        "# (vii) Function to calculate the trimmed mean\n",
        "def calculate_trimmed_mean(numbers, trim_percentage):\n",
        "    sorted_numbers = sorted(numbers)\n",
        "    n = len(sorted_numbers)\n",
        "    trim_count = int(n * trim_percentage / 100)\n",
        "    trimmed_numbers = sorted_numbers[trim_count : n - trim_count]\n",
        "    return sum(trimmed_numbers) / len(trimmed_numbers)\n",
        "\n",
        "# Outputs\n",
        "mean = calculate_mean(int_list)\n",
        "median = calculate_median(int_list)\n",
        "mode = calculate_mode(int_list)\n",
        "weights = [random.uniform(0.5, 1.5) for _ in range(len(int_list))]  # Example weights\n",
        "weighted_mean = calculate_weighted_mean(int_list, weights)\n",
        "geometric_mean = calculate_geometric_mean(int_list)\n",
        "harmonic_mean = calculate_harmonic_mean(int_list)\n",
        "midrange = calculate_midrange(int_list)\n",
        "trimmed_mean = calculate_trimmed_mean(int_list, 10)  # Trim 10%\n",
        "\n",
        "mean, median, mode, weighted_mean, geometric_mean, harmonic_mean, midrange, trimmed_mean\n"
      ],
      "metadata": {
        "colab": {
          "base_uri": "https://localhost:8080/"
        },
        "id": "YDIsZl56mUQT",
        "outputId": "3f7f7fd9-4554-47c8-b660-be4fdda6395d"
      },
      "execution_count": 1,
      "outputs": [
        {
          "output_type": "execute_result",
          "data": {
            "text/plain": [
              "(109.96,\n",
              " 111.0,\n",
              " 100,\n",
              " 109.58200538761827,\n",
              " 0.0,\n",
              " 108.79939197319317,\n",
              " 110.0,\n",
              " 110.1375)"
            ]
          },
          "metadata": {},
          "execution_count": 1
        }
      ]
    },
    {
      "cell_type": "markdown",
      "source": [
        "Q 2) Generate a list of 500 integers containing values between 200 to 300 and store it in the variable `int_list2`.\n",
        "After generating the list, find the following:\n",
        "\n",
        "\n",
        "  (i) Compare the given list of visualization for the given data:\n",
        "\n",
        "    \n",
        "\n",
        "    1. Frequency & Gaussian distribution\n",
        "\n",
        "    2. Frequency smoothened KDE plot\n",
        "\n",
        "    3. Gaussian distribution & smoothened KDE plot\n",
        "\n",
        "\n",
        "  (ii) Write a Python function to calculate the range of a given list of numbers.\n",
        "\n",
        "\n",
        "  (iii) Create a program to find the variance and standard deviation of a list of numbers.\n",
        "\n",
        "\n",
        "  (iv) Implement a function to compute the interquartile range (IQR) of a list of values.\n",
        "\n",
        "\n",
        "  (v) Build a program to calculate the coefficient of variation for a dataset.\n",
        "\n",
        "  \n",
        "\n",
        "  (vi) Write a Python function to find the mean absolute deviation (MAD) of a list of numbers.\n",
        "\n",
        "\n",
        "  (vii) Create a program to calculate the quartile deviation of a list of values.\n",
        "\n",
        "  \n",
        "\n",
        "  (viii) Implement a function to find the range-based coefficient of dispersion for a dataset."
      ],
      "metadata": {
        "id": "JyZCKZFMmvIe"
      }
    },
    {
      "cell_type": "code",
      "source": [
        "import seaborn as sns\n",
        "import matplotlib.pyplot as plt\n",
        "\n",
        "# Generate a list of 500 integers between 200 and 300\n",
        "int_list2 = [random.randint(200, 300) for _ in range(500)]\n",
        "\n",
        "# (i) Visualization comparison functions\n",
        "def visualize_data(data):\n",
        "    plt.figure(figsize=(18, 6))\n",
        "\n",
        "    # 1. Frequency & Gaussian distribution\n",
        "    plt.subplot(1, 3, 1)\n",
        "    sns.histplot(data, kde=False, bins=20, color=\"blue\", label=\"Frequency\")\n",
        "    sns.kdeplot(data, color=\"red\", label=\"Gaussian distribution\")\n",
        "    plt.legend()\n",
        "    plt.title(\"Frequency & Gaussian Distribution\")\n",
        "\n",
        "    # 2. Frequency smoothened KDE plot\n",
        "    plt.subplot(1, 3, 2)\n",
        "    sns.histplot(data, kde=False, bins=20, color=\"green\", label=\"Frequency\")\n",
        "    sns.kdeplot(data, color=\"purple\", label=\"KDE Plot\")\n",
        "    plt.legend()\n",
        "    plt.title(\"Frequency & Smoothened KDE Plot\")\n",
        "\n",
        "    # 3. Gaussian distribution & smoothened KDE plot\n",
        "    plt.subplot(1, 3, 3)\n",
        "    sns.kdeplot(data, color=\"red\", label=\"Gaussian distribution\")\n",
        "    sns.kdeplot(data, color=\"purple\", label=\"Smoothened KDE\")\n",
        "    plt.legend()\n",
        "    plt.title(\"Gaussian Distribution & Smoothened KDE Plot\")\n",
        "\n",
        "    plt.tight_layout()\n",
        "    plt.show()\n",
        "\n",
        "# (ii) Function to calculate the range\n",
        "def calculate_range(numbers):\n",
        "    return max(numbers) - min(numbers)\n",
        "\n",
        "# (iii) Function to find variance and standard deviation\n",
        "def calculate_variance_std(numbers):\n",
        "    variance = statistics.variance(numbers)\n",
        "    std_deviation = statistics.stdev(numbers)\n",
        "    return variance, std_deviation\n",
        "\n",
        "# (iv) Function to compute the interquartile range (IQR)\n",
        "def calculate_iqr(numbers):\n",
        "    q1 = np.percentile(numbers, 25)\n",
        "    q3 = np.percentile(numbers, 75)\n",
        "    return q3 - q1\n",
        "\n",
        "# (v) Function to calculate the coefficient of variation\n",
        "def calculate_coefficient_of_variation(numbers):\n",
        "    mean = calculate_mean(numbers)\n",
        "    std_dev = statistics.stdev(numbers)\n",
        "    return (std_dev / mean) * 100\n",
        "\n",
        "# (vi) Function to find the mean absolute deviation (MAD)\n",
        "def calculate_mad(numbers):\n",
        "    mean = calculate_mean(numbers)\n",
        "    return sum(abs(num - mean) for num in numbers) / len(numbers)\n",
        "\n",
        "# (vii) Function to calculate the quartile deviation\n",
        "def calculate_quartile_deviation(numbers):\n",
        "    q1 = np.percentile(numbers, 25)\n",
        "    q3 = np.percentile(numbers, 75)\n",
        "    return (q3 - q1) / 2\n",
        "\n",
        "# (viii) Function to find the range-based coefficient of dispersion\n",
        "def calculate_coefficient_of_dispersion(numbers):\n",
        "    range_value = calculate_range(numbers)\n",
        "    mean = calculate_mean(numbers)\n",
        "    return range_value / mean\n",
        "\n",
        "# Visualize the data\n",
        "visualize_data(int_list2)\n",
        "\n",
        "# Perform calculations\n",
        "data_range = calculate_range(int_list2)\n",
        "variance, std_dev = calculate_variance_std(int_list2)\n",
        "iqr = calculate_iqr(int_list2)\n",
        "coefficient_of_variation = calculate_coefficient_of_variation(int_list2)\n",
        "mad = calculate_mad(int_list2)\n",
        "quartile_deviation = calculate_quartile_deviation(int_list2)\n",
        "coefficient_of_dispersion = calculate_coefficient_of_dispersion(int_list2)\n",
        "\n",
        "data_range, variance, std_dev, iqr, coefficient_of_variation, mad, quartile_deviation, coefficient_of_dispersion\n"
      ],
      "metadata": {
        "colab": {
          "base_uri": "https://localhost:8080/",
          "height": 625
        },
        "id": "R7M7XkeOm5n9",
        "outputId": "7d67f12d-86ee-4bfd-820a-4a8c4faa7ef3"
      },
      "execution_count": 2,
      "outputs": [
        {
          "output_type": "display_data",
          "data": {
            "text/plain": [
              "<Figure size 1800x600 with 3 Axes>"
            ],
            "image/png": "[encoded data removed]"
          },
          "metadata": {}
        },
        {
          "output_type": "execute_result",
          "data": {
            "text/plain": [
              "(100,\n",
              " 860.2515270541082,\n",
              " 29.330044784386338,\n",
              " 50.25,\n",
              " 11.747242339826952,\n",
              " 25.166703999999996,\n",
              " 25.125,\n",
              " 0.4005190727182429)"
            ]
          },
          "metadata": {},
          "execution_count": 2
        }
      ]
    },
    {
      "cell_type": "markdown",
      "source": [
        "Q3) Write a Python class representing a discrete random variable with methods to calculate its expected\n",
        "value and variance."
      ],
      "metadata": {
        "id": "_LSOpM86nNgv"
      }
    },
    {
      "cell_type": "code",
      "source": [
        "class DiscreteRandomVariable:\n",
        "    def __init__(self, values, probabilities):\n",
        "        \"\"\"\n",
        "        Initializes the discrete random variable.\n",
        "        :param values: A list of possible values of the random variable.\n",
        "        :param probabilities: A list of probabilities corresponding to the values.\n",
        "        \"\"\"\n",
        "        if len(values) != len(probabilities):\n",
        "            raise ValueError(\"Values and probabilities must have the same length.\")\n",
        "        if not (0.9999 <= sum(probabilities) <= 1.0001):  # Allowing for floating-point precision issues\n",
        "            raise ValueError(\"Probabilities must sum to 1.\")\n",
        "\n",
        "        self.values = values\n",
        "        self.probabilities = probabilities\n",
        "\n",
        "    def expected_value(self):\n",
        "        \"\"\"\n",
        "        Calculates the expected value (mean) of the random variable.\n",
        "        :return: Expected value as a float.\n",
        "        \"\"\"\n",
        "        return sum(value * prob for value, prob in zip(self.values, self.probabilities))\n",
        "\n",
        "    def variance(self):\n",
        "        \"\"\"\n",
        "        Calculates the variance of the random variable.\n",
        "        :return: Variance as a float.\n",
        "        \"\"\"\n",
        "        mean = self.expected_value()\n",
        "        return sum(prob * (value - mean) ** 2 for value, prob in zip(self.values, self.probabilities))\n",
        "\n",
        "# Example usage\n",
        "values = [1, 2, 3, 4]\n",
        "probabilities = [0.1, 0.2, 0.4, 0.3]\n",
        "random_variable = DiscreteRandomVariable(values, probabilities)\n",
        "\n",
        "expected_value = random_variable.expected_value()\n",
        "variance = random_variable.variance()\n",
        "\n",
        "expected_value, variance\n"
      ],
      "metadata": {
        "colab": {
          "base_uri": "https://localhost:8080/"
        },
        "id": "f2ADpHXcnf0I",
        "outputId": "c4ab706a-920f-4e49-f9f4-02402e9e13d9"
      },
      "execution_count": 3,
      "outputs": [
        {
          "output_type": "execute_result",
          "data": {
            "text/plain": [
              "(2.9000000000000004, 0.8900000000000001)"
            ]
          },
          "metadata": {},
          "execution_count": 3
        }
      ]
    },
    {
      "cell_type": "markdown",
      "source": [
        "The calculations for the given discrete random variable are as follows:\n",
        "\n",
        "Expected Value:\n",
        "2.9\n",
        "\n",
        "Variance:\n",
        "0.89\n",
        "\n",
        "The DiscreteRandomVariable class allows for initializing the values and probabilities, and provides methods to calculate the expected value and variance. Let me know if you'd like further customizations! ​"
      ],
      "metadata": {
        "id": "OMQ_XTv_np2e"
      }
    },
    {
      "cell_type": "markdown",
      "source": [
        "Q4) ) Implement a program to simulate the rolling of a fair six-sided die and calculate the expected value and\n",
        "variance of the outcomes."
      ],
      "metadata": {
        "id": "-uh1NO7Bn3FC"
      }
    },
    {
      "cell_type": "code",
      "source": [
        "import random\n",
        "\n",
        "class FairDieSimulation:\n",
        "    def __init__(self, sides=6):\n",
        "        \"\"\"\n",
        "        Initializes the die simulation with the number of sides.\n",
        "        :param sides: Number of sides on the die (default is 6 for a standard die).\n",
        "        \"\"\"\n",
        "        self.sides = sides\n",
        "        self.values = list(range(1, sides + 1))\n",
        "        self.probabilities = [1 / sides] * sides\n",
        "\n",
        "    def roll(self, rolls=1000):\n",
        "        \"\"\"\n",
        "        Simulates rolling the die a specified number of times.\n",
        "        :param rolls: Number of rolls (default is 1000).\n",
        "        :return: List of outcomes from the rolls.\n",
        "        \"\"\"\n",
        "        return [random.choice(self.values) for _ in range(rolls)]\n",
        "\n",
        "    def expected_value(self):\n",
        "        \"\"\"\n",
        "        Calculates the theoretical expected value of the die outcomes.\n",
        "        :return: Expected value as a float.\n",
        "        \"\"\"\n",
        "        return sum(value * prob for value, prob in zip(self.values, self.probabilities))\n",
        "\n",
        "    def variance(self):\n",
        "        \"\"\"\n",
        "        Calculates the theoretical variance of the die outcomes.\n",
        "        :return: Variance as a float.\n",
        "        \"\"\"\n",
        "        mean = self.expected_value()\n",
        "        return sum(prob * (value - mean) ** 2 for value, prob in zip(self.values, self.probabilities))\n",
        "\n",
        "# Create a fair six-sided die simulation\n",
        "die_simulation = FairDieSimulation()\n",
        "\n",
        "# Simulate 1000 rolls\n",
        "rolls = die_simulation.roll(1000)\n",
        "\n",
        "# Calculate theoretical expected value and variance\n",
        "expected_value_theoretical = die_simulation.expected_value()\n",
        "variance_theoretical = die_simulation.variance()\n",
        "\n",
        "# Output\n",
        "expected_value_theoretical, variance_theoretical\n"
      ],
      "metadata": {
        "colab": {
          "base_uri": "https://localhost:8080/"
        },
        "id": "9-2tU5M3oXKE",
        "outputId": "aea927e2-f95e-408c-cb93-ba530acca242"
      },
      "execution_count": 5,
      "outputs": [
        {
          "output_type": "execute_result",
          "data": {
            "text/plain": [
              "(3.5, 2.9166666666666665)"
            ]
          },
          "metadata": {},
          "execution_count": 5
        }
      ]
    },
    {
      "cell_type": "markdown",
      "source": [
        "Q5)) Create a Python function to generate random samples from a given probability distribution (e.g.,\n",
        "binomial, Poisson) and calculate their mean and variance."
      ],
      "metadata": {
        "id": "o-LCzmaZoz3H"
      }
    },
    {
      "cell_type": "code",
      "source": [
        "import numpy as np\n",
        "\n",
        "def generate_samples(distribution, params, sample_size=1000):\n",
        "    \"\"\"\n",
        "    Generates random samples from a specified probability distribution and calculates their mean and variance.\n",
        "\n",
        "    :param distribution: The name of the distribution ('binomial', 'poisson', etc.).\n",
        "    :param params: A dictionary of parameters required by the distribution.\n",
        "    :param sample_size: Number of random samples to generate (default is 1000).\n",
        "    :return: A tuple containing the generated samples, mean, and variance.\n",
        "    \"\"\"\n",
        "    if distribution == \"binomial\":\n",
        "        n = params.get(\"n\", 1)\n",
        "        p = params.get(\"p\", 0.5)\n",
        "        samples = np.random.binomial(n, p, sample_size)\n",
        "    elif distribution == \"poisson\":\n",
        "        lam = params.get(\"lambda\", 1)\n",
        "        samples = np.random.poisson(lam, sample_size)\n",
        "    else:\n",
        "        raise ValueError(f\"Unsupported distribution: {distribution}\")\n",
        "\n",
        "    mean = np.mean(samples)\n",
        "    variance = np.var(samples)\n",
        "\n",
        "    return samples, mean, variance\n",
        "\n",
        "# Example usage: Generate samples from a binomial distribution\n",
        "binomial_params = {\"n\": 10, \"p\": 0.5}\n",
        "binomial_samples, binomial_mean, binomial_variance = generate_samples(\"binomial\", binomial_params)\n",
        "\n",
        "# Example usage: Generate samples from a Poisson distribution\n",
        "poisson_params = {\"lambda\": 4}\n",
        "poisson_samples, poisson_mean, poisson_variance = generate_samples(\"poisson\", poisson_params)\n",
        "\n",
        "binomial_mean, binomial_variance, poisson_mean, poisson_variance\n"
      ],
      "metadata": {
        "colab": {
          "base_uri": "https://localhost:8080/"
        },
        "id": "YChVu8KgpCIh",
        "outputId": "c3281669-52d7-4555-f8ae-43ead6183283"
      },
      "execution_count": 6,
      "outputs": [
        {
          "output_type": "execute_result",
          "data": {
            "text/plain": [
              "(5.02, 2.3335999999999997, 4.044, 4.228064000000001)"
            ]
          },
          "metadata": {},
          "execution_count": 6
        }
      ]
    },
    {
      "cell_type": "markdown",
      "source": [
        "Q6)Write a Python script to generate random numbers from a Gaussian (normal) distribution and compute\n",
        "the mean, variance, and standard deviation of the samples."
      ],
      "metadata": {
        "id": "euVq5oZKpIN2"
      }
    },
    {
      "cell_type": "code",
      "source": [
        "import numpy as np\n",
        "\n",
        "def gaussian_statistics(mean=0, std_dev=1, sample_size=1000):\n",
        "    \"\"\"\n",
        "    Generates random samples from a Gaussian distribution and computes statistics.\n",
        "\n",
        "    :param mean: Mean of the Gaussian distribution (default is 0).\n",
        "    :param std_dev: Standard deviation of the Gaussian distribution (default is 1).\n",
        "    :param sample_size: Number of random samples to generate (default is 1000).\n",
        "    :return: A dictionary containing the generated samples, mean, variance, and standard deviation.\n",
        "    \"\"\"\n",
        "    # Generate random samples\n",
        "    samples = np.random.normal(mean, std_dev, sample_size)\n",
        "\n",
        "    # Compute statistics\n",
        "    computed_mean = np.mean(samples)\n",
        "    computed_variance = np.var(samples)\n",
        "    computed_std_dev = np.std(samples)\n",
        "\n",
        "    return {\n",
        "        \"samples\": samples,\n",
        "        \"mean\": computed_mean,\n",
        "        \"variance\": computed_variance,\n",
        "        \"std_dev\": computed_std_dev\n",
        "    }\n",
        "\n",
        "# Example usage\n",
        "stats = gaussian_statistics(mean=5, std_dev=2, sample_size=1000)\n",
        "\n",
        "# Extracting results for display\n",
        "computed_mean = stats[\"mean\"]\n",
        "computed_variance = stats[\"variance\"]\n",
        "computed_std_dev = stats[\"std_dev\"]\n",
        "\n",
        "computed_mean, computed_variance, computed_std_dev\n"
      ],
      "metadata": {
        "colab": {
          "base_uri": "https://localhost:8080/"
        },
        "id": "KXStwmUjpXVl",
        "outputId": "1f38fc5d-5c60-4715-f79f-c3e29554aa00"
      },
      "execution_count": 8,
      "outputs": [
        {
          "output_type": "execute_result",
          "data": {
            "text/plain": [
              "(4.98526068974868, 4.082144029416096, 2.020431644331502)"
            ]
          },
          "metadata": {},
          "execution_count": 8
        }
      ]
    },
    {
      "cell_type": "markdown",
      "source": [
        "Q7)) Use seaborn library to load tips dataset. Find the following from the dataset for the columns total_bill\n",
        "and tip`:\n",
        "\n",
        "  \n",
        "\n",
        "  (i) Write a Python function that calculates their skewness.\n",
        "\n",
        "\n",
        "  (ii) Create a program that determines whether the columns exhibit positive skewness, negative skewness, or is\n",
        "approximately symmetric.\n",
        "\n",
        "\n",
        "  (iii) Write a function that calculates the covariance between two columns.\n",
        "\n",
        "\n",
        "  (iv) Implement a Python program that calculates the Pearson correlation coefficient between two columns.\n",
        "\n",
        "\n",
        "  (v) Write a script to visualize the correlation between two specific columns in a Pandas DataFrame using\n",
        "scatter plots."
      ],
      "metadata": {
        "id": "TAw1W9HVpfl3"
      }
    },
    {
      "cell_type": "code",
      "source": [
        "import seaborn as sns\n",
        "import pandas as pd\n",
        "import numpy as np\n",
        "import matplotlib.pyplot as plt\n",
        "\n",
        "# Load the tips dataset\n",
        "tips = sns.load_dataset(\"tips\")\n",
        "\n",
        "# (i) Function to calculate skewness\n",
        "def calculate_skewness(column):\n",
        "    return column.skew()\n",
        "\n",
        "# (ii) Function to determine skewness type\n",
        "def skewness_type(skewness_value):\n",
        "    if skewness_value > 0:\n",
        "        return \"Positive Skewness\"\n",
        "    elif skewness_value < 0:\n",
        "        return \"Negative Skewness\"\n",
        "    else:\n",
        "        return \"Approximately Symmetric\"\n",
        "\n",
        "# (iii) Function to calculate covariance between two columns\n",
        "def calculate_covariance(column1, column2):\n",
        "    return np.cov(column1, column2, ddof=0)[0, 1]\n",
        "\n",
        "# (iv) Function to calculate Pearson correlation coefficient between two columns\n",
        "def calculate_pearson_correlation(column1, column2):\n",
        "    return column1.corr(column2)\n",
        "\n",
        "# (v) Function to visualize correlation between two columns using scatter plot\n",
        "def visualize_correlation(df, col1, col2):\n",
        "    plt.figure(figsize=(8, 6))\n",
        "    sns.scatterplot(x=df[col1], y=df[col2])\n",
        "    plt.title(f\"Scatter Plot: {col1} vs {col2}\")\n",
        "    plt.xlabel(col1)\n",
        "    plt.ylabel(col2)\n",
        "    plt.grid(True)\n",
        "    plt.show()\n",
        "\n",
        "# Perform analysis for 'total_bill' and 'tip' columns\n",
        "total_bill = tips['total_bill']\n",
        "tip = tips['tip']\n",
        "\n",
        "# Calculate skewness\n",
        "total_bill_skewness = calculate_skewness(total_bill)\n",
        "tip_skewness = calculate_skewness(tip)\n",
        "\n",
        "# Determine skewness type\n",
        "total_bill_skewness_type = skewness_type(total_bill_skewness)\n",
        "tip_skewness_type = skewness_type(tip_skewness)\n",
        "\n",
        "# Calculate covariance\n",
        "covariance = calculate_covariance(total_bill, tip)\n",
        "\n",
        "# Calculate Pearson correlation coefficient\n",
        "pearson_correlation = calculate_pearson_correlation(total_bill, tip)\n",
        "\n",
        "# Visualize correlation\n",
        "visualize_correlation(tips, 'total_bill', 'tip')\n",
        "\n",
        "# Results\n",
        "total_bill_skewness, total_bill_skewness_type, tip_skewness, tip_skewness_type, covariance, pearson_correlation\n"
      ],
      "metadata": {
        "colab": {
          "base_uri": "https://localhost:8080/",
          "height": 675
        },
        "id": "gEt9wXnRpsBZ",
        "outputId": "5858f9fb-5794-4561-c7ef-3ed473bb66c4"
      },
      "execution_count": 9,
      "outputs": [
        {
          "output_type": "display_data",
          "data": {
            "text/plain": [
              "<Figure size 800x600 with 1 Axes>"
            ],
            "image/png": "[encoded data removed]"
          },
          "metadata": {}
        },
        {
          "output_type": "execute_result",
          "data": {
            "text/plain": [
              "(1.1332130376158205,\n",
              " 'Positive Skewness',\n",
              " 1.4654510370979401,\n",
              " 'Positive Skewness',\n",
              " 8.28938891762967,\n",
              " 0.6757341092113641)"
            ]
          },
          "metadata": {},
          "execution_count": 9
        }
      ]
    },
    {
      "cell_type": "markdown",
      "source": [
        "Q8) Write a Python function to calculate the probability density function (PDF) of a continuous random\n",
        "variable for a given normal distribution."
      ],
      "metadata": {
        "id": "cULjeNiUp6G7"
      }
    },
    {
      "cell_type": "code",
      "source": [
        "import math\n",
        "\n",
        "def normal_pdf(x, mean, std_dev):\n",
        "    \"\"\"\n",
        "    Calculates the probability density function (PDF) of a normal distribution.\n",
        "\n",
        "    :param x: The point at which to evaluate the PDF.\n",
        "    :param mean: The mean of the normal distribution.\n",
        "    :param std_dev: The standard deviation of the normal distribution.\n",
        "    :return: The PDF value at x.\n",
        "    \"\"\"\n",
        "    coeff = 1 / (std_dev * math.sqrt(2 * math.pi))\n",
        "    exponent = -((x - mean) ** 2) / (2 * std_dev ** 2)\n",
        "    return coeff * math.exp(exponent)\n",
        "\n",
        "# Example usage\n",
        "x_value = 5\n",
        "mean_value = 0\n",
        "std_dev_value = 1\n",
        "\n",
        "pdf_value = normal_pdf(x_value, mean_value, std_dev_value)\n",
        "pdf_value\n"
      ],
      "metadata": {
        "colab": {
          "base_uri": "https://localhost:8080/"
        },
        "id": "U5juGZFmqRPD",
        "outputId": "4e491ac0-fa43-4cd8-9547-c8d416d6c18c"
      },
      "execution_count": 10,
      "outputs": [
        {
          "output_type": "execute_result",
          "data": {
            "text/plain": [
              "1.4867195147342977e-06"
            ]
          },
          "metadata": {},
          "execution_count": 10
        }
      ]
    },
    {
      "cell_type": "markdown",
      "source": [
        "Q9) Create a program to calculate the cumulative distribution function (CDF) of exponential distribution."
      ],
      "metadata": {
        "id": "yPjrfhd8qrfk"
      }
    },
    {
      "cell_type": "code",
      "source": [
        "import math\n",
        "\n",
        "def exponential_cdf(x, rate):\n",
        "    \"\"\"\n",
        "    Calculates the cumulative distribution function (CDF) of an exponential distribution.\n",
        "\n",
        "    :param x: The point at which to evaluate the CDF (x >= 0).\n",
        "    :param rate: The rate parameter (lambda > 0) of the exponential distribution.\n",
        "    :return: The CDF value at x.\n",
        "    \"\"\"\n",
        "    if x < 0 or rate <= 0:\n",
        "        raise ValueError(\"x must be >= 0 and rate (lambda) must be > 0.\")\n",
        "    return 1 - math.exp(-rate * x)\n",
        "\n",
        "# Example usage\n",
        "x_value = 2\n",
        "rate_value = 0.5\n",
        "\n",
        "cdf_value = exponential_cdf(x_value, rate_value)\n",
        "cdf_value\n"
      ],
      "metadata": {
        "colab": {
          "base_uri": "https://localhost:8080/"
        },
        "id": "3N0Qkk80qvHO",
        "outputId": "0043f116-e7a9-4a4e-b1fb-4f7cbab12178"
      },
      "execution_count": 12,
      "outputs": [
        {
          "output_type": "execute_result",
          "data": {
            "text/plain": [
              "0.6321205588285577"
            ]
          },
          "metadata": {},
          "execution_count": 12
        }
      ]
    },
    {
      "cell_type": "markdown",
      "source": [
        "Q10) ) Write a Python function to calculate the probability mass function (PMF) of Poisson distribution.\n"
      ],
      "metadata": {
        "id": "MRTzO4mPrDYj"
      }
    },
    {
      "cell_type": "code",
      "source": [
        "import math\n",
        "\n",
        "def poisson_pmf(k, lam):\n",
        "    \"\"\"\n",
        "    Calculates the probability mass function (PMF) of a Poisson distribution.\n",
        "\n",
        "    :param k: The number of occurrences (non-negative integer).\n",
        "    :param lam: The average rate (lambda > 0) of occurrences.\n",
        "    :return: The PMF value at k.\n",
        "    \"\"\"\n",
        "    if k < 0 or not isinstance(k, int):\n",
        "        raise ValueError(\"k must be a non-negative integer.\")\n",
        "    if lam <= 0:\n",
        "        raise ValueError(\"Lambda (rate) must be > 0.\")\n",
        "    return (math.exp(-lam) * lam**k) / math.factorial(k)\n",
        "\n",
        "# Example usage\n",
        "k_value = 3\n",
        "lambda_value = 2\n",
        "\n",
        "pmf_value = poisson_pmf(k_value, lambda_value)\n",
        "pmf_value\n"
      ],
      "metadata": {
        "colab": {
          "base_uri": "https://localhost:8080/"
        },
        "id": "palJI5zArIRu",
        "outputId": "d24a5534-7e53-4f34-e8fd-83a7a633c86a"
      },
      "execution_count": 14,
      "outputs": [
        {
          "output_type": "execute_result",
          "data": {
            "text/plain": [
              "0.1804470443154836"
            ]
          },
          "metadata": {},
          "execution_count": 14
        }
      ]
    },
    {
      "cell_type": "markdown",
      "source": [
        "Q 11) ;;M A company wants to test if a new website layout leads to a higher conversion rate (percentage of visitors\n",
        "who make a purchase). They collect data from the old and new layouts to compare.\n",
        "\n",
        "\n",
        "To generate the data use the following command:\n",
        "\n",
        "```python\n",
        "\n",
        "import numpy as np\n",
        "\n",
        "# 50 purchases out of 1000 visitors\n",
        "\n",
        "old_layout = np.array([1] * 50 + [0] * 950)\n",
        "\n",
        "# 70 purchases out of 1000 visitors  \n",
        "\n",
        "new_layout = np.array([1] * 70 + [0] * 930)\n",
        "\n",
        "  ```\n",
        "\n",
        "Apply z-test to find which layout is successful."
      ],
      "metadata": {
        "id": "13ntphHHsZ4l"
      }
    },
    {
      "cell_type": "code",
      "source": [
        "import numpy as np\n",
        "from scipy import stats\n",
        "\n",
        "# Generate data for the old and new layouts\n",
        "old_layout = np.array([1] * 50 + [0] * 950)  # 50 purchases out of 1000 visitors\n",
        "new_layout = np.array([1] * 70 + [0] * 930)  # 70 purchases out of 1000 visitors\n",
        "\n",
        "# Calculate conversion rates\n",
        "old_conversion_rate = np.mean(old_layout)\n",
        "new_conversion_rate = np.mean(new_layout)\n",
        "\n",
        "# Sample sizes\n",
        "n_old = len(old_layout)\n",
        "n_new = len(new_layout)\n",
        "\n",
        "# Standard errors of the proportions\n",
        "se_old = np.sqrt((old_conversion_rate * (1 - old_conversion_rate)) / n_old)\n",
        "se_new = np.sqrt((new_conversion_rate * (1 - new_conversion_rate)) / n_new)\n",
        "\n",
        "# Calculate the z-statistic\n",
        "z_stat = (new_conversion_rate - old_conversion_rate) / np.sqrt(se_old**2 + se_new**2)\n",
        "\n",
        "# Calculate the p-value for the z-test\n",
        "p_value = stats.norm.sf(abs(z_stat)) * 2  # two-tailed test\n",
        "\n",
        "# Results\n",
        "z_stat, p_value\n"
      ],
      "metadata": {
        "colab": {
          "base_uri": "https://localhost:8080/"
        },
        "id": "xJvppUzbstmf",
        "outputId": "0f6a5c08-3d0d-4498-eaee-1b4f5d733df5"
      },
      "execution_count": 15,
      "outputs": [
        {
          "output_type": "execute_result",
          "data": {
            "text/plain": [
              "(1.8847805889708436, 0.05945946670243492)"
            ]
          },
          "metadata": {},
          "execution_count": 15
        }
      ]
    },
    {
      "cell_type": "markdown",
      "source": [
        "this script:\n",
        "\n",
        "Calculates the conversion rates for both layouts.\n",
        "\n",
        "Computes the standard errors for the two samples.\n",
        "\n",
        "Calculates the z-statistic and the p-value to determine if the difference in conversion rates is statistically significant.\n",
        "\n",
        " interpret the result:\n",
        "\n",
        "If the p-value is less than your chosen significance level (typically 0.05), then you can reject the null hypothesis and conclude that there is a significant difference between the two layouts.\n",
        "\n",
        " but in this case p value is greater 1.88 than than 0.05 than we accept the null hypoyhessis .\n",
        "\n",
        "\n",
        "\n",
        "\n",
        "\n",
        "\n"
      ],
      "metadata": {
        "id": "cFlwB2yqtJr1"
      }
    },
    {
      "cell_type": "markdown",
      "source": [
        "Q12)  A tutoring service claims that its program improves students' exam scores. A sample of students who\n",
        "participated in the program was taken, and their scores before and after the program were recorded.\n",
        "\n",
        "\n",
        "Use the below code to generate samples of respective arrays of marks:\n",
        "\n",
        "```python\n",
        "\n",
        "before_program = np.array([75, 80, 85, 70, 90, 78, 92, 88, 82, 87])\n",
        "\n",
        "after_program = np.array([80, 85, 90, 80, 92, 80, 95, 90, 85, 88])\n",
        "\n",
        "```\n",
        "\n",
        "Use z-test to find if the claims made by tutor are true or false."
      ],
      "metadata": {
        "id": "Om6UyQ92t07d"
      }
    },
    {
      "cell_type": "markdown",
      "source": [
        "ANS) To evaluate whether the tutoring service's program improved the students' exam scores, we can apply a z-test for the difference in means of the before_program and after_program scores.\n",
        "\n",
        "Here's how you can do it:\n",
        "\n",
        "Null Hypothesis (H₀): There is no significant difference between the scores before and after the tutoring program.\n",
        "\n",
        "Alternative Hypothesis (H₁): The tutoring program resulted in a significant improvement in exam scores.\n",
        "\n",
        "Z-test for two samples (independent)\n",
        "Since you are comparing the scores before and after the program, and the sample size is small, a paired z-test can be used, but we need to use the difference in means for this test.\n",
        "\n",
        "Here's the Python code to perform the z-test for the given data:"
      ],
      "metadata": {
        "id": "_o3FY_W0uBEX"
      }
    },
    {
      "cell_type": "code",
      "source": [
        "import numpy as np\n",
        "from scipy import stats\n",
        "\n",
        "# Sample data\n",
        "before_program = np.array([75, 80, 85, 70, 90, 78, 92, 88, 82, 87])\n",
        "after_program = np.array([80, 85, 90, 80, 92, 80, 95, 90, 85, 88])\n",
        "\n",
        "# Calculate the differences between the scores before and after the program\n",
        "differences = after_program - before_program\n",
        "\n",
        "# Mean and standard deviation of the differences\n",
        "mean_diff = np.mean(differences)\n",
        "std_diff = np.std(differences, ddof=1)\n",
        "\n",
        "# Sample size\n",
        "n = len(differences)\n",
        "\n",
        "# Calculate the z-statistic\n",
        "z_stat = mean_diff / (std_diff / np.sqrt(n))\n",
        "\n",
        "# Calculate the p-value for the z-test (one-tailed test)\n",
        "p_value = stats.norm.sf(abs(z_stat))  # one-tailed test, so use `sf`\n",
        "\n",
        "# Results\n",
        "z_stat, p_value\n"
      ],
      "metadata": {
        "colab": {
          "base_uri": "https://localhost:8080/"
        },
        "id": "1AHaKLC0uM7Y",
        "outputId": "351a65ff-734a-4679-e8e8-efc78c4a8c27"
      },
      "execution_count": 16,
      "outputs": [
        {
          "output_type": "execute_result",
          "data": {
            "text/plain": [
              "(4.593190894944668, 2.182597052671683e-06)"
            ]
          },
          "metadata": {},
          "execution_count": 16
        }
      ]
    },
    {
      "cell_type": "markdown",
      "source": [
        "Steps involved in the z-test:\n",
        "\n",
        "Calculate the differences between the scores before and after the tutoring program.\n",
        "\n",
        "Find the mean and standard deviation of these differences.\n",
        "\n",
        "Compute the z-statistic based on the difference in means, standard deviation, and sample size.\n",
        "\n",
        "Calculate the p-value to assess the significance of the result.\n",
        "Interpretation of results:\n",
        "\n",
        "If the p-value is less than 0.05, reject the null hypothesis and conclude that the tutoring program has a significant impact on the exam scores.\n",
        "\n",
        "If the p-value is greater than 0.05, fail to reject the null hypothesis, meaning there is insufficient evidence to support the claim.\n",
        "\n",
        "In this case we accept the null hypothesis"
      ],
      "metadata": {
        "id": "pIA00AomuUzp"
      }
    },
    {
      "cell_type": "markdown",
      "source": [
        "Q13) M A pharmaceutical company wants to determine if a new drug is effective in reducing blood pressure. They\n",
        "conduct a study and record blood pressure measurements before and after administering the drug.\n",
        "\n",
        "\n",
        "Use the below code to generate samples of respective arrays of blood pressure:\n",
        "\n",
        "\n",
        "```python\n",
        "\n",
        "before_drug = np.array([145, 150, 140, 135, 155, 160, 152, 148, 130, 138])\n",
        "\n",
        "after_drug = np.array([130, 140, 132, 128, 145, 148, 138, 136, 125, 130])\n",
        "\n",
        "  ```\n",
        "\n",
        "\n",
        "Implement z-test to find if the drug really works or not."
      ],
      "metadata": {
        "id": "ombeHZW3uvT_"
      }
    },
    {
      "cell_type": "markdown",
      "source": [
        "To determine if the new drug effectively reduces blood pressure, you can perform a paired z-test comparing the blood pressure measurements before and after administering the drug.\n",
        "\n",
        "Hypotheses:\n",
        "\n",
        "Null Hypothesis (H₀): The drug has no effect on blood pressure (i.e., the mean difference between the before and after measurements is zero).\n",
        "\n",
        "Alternative Hypothesis (H₁): The drug does have an effect, i.e., the mean difference is significantly different from zero."
      ],
      "metadata": {
        "id": "uYWvssDRvEk9"
      }
    },
    {
      "cell_type": "code",
      "source": [
        "import numpy as np\n",
        "from scipy import stats\n",
        "\n",
        "# Blood pressure data before and after the drug\n",
        "before_drug = np.array([145, 150, 140, 135, 155, 160, 152, 148, 130, 138])\n",
        "after_drug = np.array([130, 140, 132, 128, 145, 148, 138, 136, 125, 130])\n",
        "\n",
        "# Calculate the differences between the after and before measurements\n",
        "differences = after_drug - before_drug\n",
        "\n",
        "# Mean and standard deviation of the differences\n",
        "mean_diff = np.mean(differences)\n",
        "std_diff = np.std(differences, ddof=1)\n",
        "\n",
        "# Sample size\n",
        "n = len(differences)\n",
        "\n",
        "# Calculate the z-statistic\n",
        "z_stat = mean_diff / (std_diff / np.sqrt(n))\n",
        "\n",
        "# Calculate the p-value for the z-test (one-tailed test, since we expect a reduction in blood pressure)\n",
        "p_value = stats.norm.sf(abs(z_stat))  # one-tailed test, so use `sf`\n",
        "\n",
        "# Results\n",
        "z_stat, p_value\n"
      ],
      "metadata": {
        "colab": {
          "base_uri": "https://localhost:8080/"
        },
        "id": "XcSRp9fNuxR5",
        "outputId": "7c3c717b-90cc-4c80-9fcc-79ebaa2f8b93"
      },
      "execution_count": 17,
      "outputs": [
        {
          "output_type": "execute_result",
          "data": {
            "text/plain": [
              "(-10.049875621120888, 4.599172203850193e-24)"
            ]
          },
          "metadata": {},
          "execution_count": 17
        }
      ]
    },
    {
      "cell_type": "markdown",
      "source": [
        "Results\n",
        "\n",
        "the p-value is greater than 0.05, fail to reject the null hypothesis, meaning there is insufficient evidence to conclude that the drug is effective."
      ],
      "metadata": {
        "id": "Mng1LnPIvVmc"
      }
    },
    {
      "cell_type": "markdown",
      "source": [
        "Q 14)  A customer service department claims that their average response time is less than 5 minutes. A sample\n",
        "of recent customer interactions was taken, and the response times were recorded.\n",
        "\n",
        "\n",
        "Implement the below code to generate the array of response time:\n",
        "\n",
        "```python\n",
        "\n",
        "response_times = np.array([4.3, 3.8, 5.1, 4.9, 4.7, 4.2, 5.2, 4.5, 4.6, 4.4])\n",
        "\n",
        "```\n",
        "\n",
        "Implement z-test to find the claims made by customer service department are tru or false."
      ],
      "metadata": {
        "id": "zUGjIGRbvjBo"
      }
    },
    {
      "cell_type": "markdown",
      "source": [
        "To test whether the customer service department's claim of having an average response time of less than 5 minutes is true, we can perform a one-sample z-test for the mean.\n",
        "\n",
        "Hypotheses:\n",
        "Null Hypothesis (H₀): The average response time is 5 minutes (the claim is true).\n",
        "Alternative Hypothesis (H₁): The average response time is less than 5 minutes (the claim is false, we expect the average to be less than 5)."
      ],
      "metadata": {
        "id": "ke1AA715v3IN"
      }
    },
    {
      "cell_type": "code",
      "source": [
        "import numpy as np\n",
        "from scipy import stats\n",
        "\n",
        "# Sample data: response times\n",
        "response_times = np.array([4.3, 3.8, 5.1, 4.9, 4.7, 4.2, 5.2, 4.5, 4.6, 4.4])\n",
        "\n",
        "# Population mean (claimed average response time)\n",
        "mu = 5\n",
        "\n",
        "# Calculate sample mean and standard deviation\n",
        "sample_mean = np.mean(response_times)\n",
        "sample_std = np.std(response_times, ddof=1)  # sample standard deviation\n",
        "n = len(response_times)\n",
        "\n",
        "# Calculate the z-statistic\n",
        "z_stat = (sample_mean - mu) / (sample_std / np.sqrt(n))\n",
        "\n",
        "# Calculate the p-value for the z-test (one-tailed test, as we are testing for less than 5 minutes)\n",
        "p_value = stats.norm.cdf(z_stat)  # one-tailed test\n",
        "\n",
        "# Results\n",
        "z_stat, p_value\n"
      ],
      "metadata": {
        "colab": {
          "base_uri": "https://localhost:8080/"
        },
        "id": "6WEYnHCfv4Dx",
        "outputId": "f421591b-07aa-4c50-991c-ea2f9beffe00"
      },
      "execution_count": 18,
      "outputs": [
        {
          "output_type": "execute_result",
          "data": {
            "text/plain": [
              "(-3.184457226042963, 0.0007251287113068958)"
            ]
          },
          "metadata": {},
          "execution_count": 18
        }
      ]
    },
    {
      "cell_type": "markdown",
      "source": [
        "Interpretation of Results:\n",
        "\n",
        "the p-value is less than 0.05, you can reject the null hypothesis and conclude that the customer service department's claim is likely true, meaning the average response time is significantly less than 5 minutes."
      ],
      "metadata": {
        "id": "z-wLBfLwv_td"
      }
    },
    {
      "cell_type": "markdown",
      "source": [
        "Q15) £U A company is testing two different website layouts to see which one leads to higher click-through rates.\n",
        "Write a Python function to perform an A/B test analysis, including calculating the t-statistic, degrees of\n",
        "freedom, and p-value.\n",
        "\n",
        "\n",
        "Use the following data:\n",
        "\n",
        "```python\n",
        "\n",
        "layout_a_clicks = [28, 32, 33, 29, 31, 34, 30, 35, 36, 37]\n",
        "\n",
        "layout_b_clicks = [40, 41, 38, 42, 39, 44, 43, 41, 45, 47]"
      ],
      "metadata": {
        "id": "7ofBxFPkwFbK"
      }
    },
    {
      "cell_type": "markdown",
      "source": [
        "To perform an A/B test analysis comparing the click-through rates for two website layouts (layout A and layout B), we need to calculate the t-statistic, degrees of freedom, and p-value.\n",
        "\n",
        "Steps involved in the A/B Test:\n",
        "\n",
        "Null Hypothesis (H₀): The mean click-through rates for the two layouts are equal (i.e., layout A and layout B are equally effective).\n",
        "\n",
        "Alternative Hypothesis (H₁): The mean click-through rates for the two layouts are different (i.e., one layout performs better than the other)."
      ],
      "metadata": {
        "id": "YQxEwSoDwXik"
      }
    },
    {
      "cell_type": "code",
      "source": [
        "import numpy as np\n",
        "from scipy import stats\n",
        "\n",
        "# Data for layout A and layout B\n",
        "layout_a_clicks = [28, 32, 33, 29, 31, 34, 30, 35, 36, 37]\n",
        "layout_b_clicks = [40, 41, 38, 42, 39, 44, 43, 41, 45, 47]\n",
        "\n",
        "# Sample sizes\n",
        "n_a = len(layout_a_clicks)\n",
        "n_b = len(layout_b_clicks)\n",
        "\n",
        "# Sample means\n",
        "mean_a = np.mean(layout_a_clicks)\n",
        "mean_b = np.mean(layout_b_clicks)\n",
        "\n",
        "# Sample variances\n",
        "var_a = np.var(layout_a_clicks, ddof=1)\n",
        "var_b = np.var(layout_b_clicks, ddof=1)\n",
        "\n",
        "# Standard errors\n",
        "se_a = np.sqrt(var_a / n_a)\n",
        "se_b = np.sqrt(var_b / n_b)\n",
        "\n",
        "# Calculate the t-statistic\n",
        "t_stat = (mean_a - mean_b) / np.sqrt(se_a**2 + se_b**2)\n",
        "\n",
        "# Degrees of freedom\n",
        "df = ((se_a**2 + se_b**2)**2) / ((se_a**2 / n_a)**2 / (n_a - 1) + (se_b**2 / n_b)**2 / (n_b - 1))\n",
        "\n",
        "# Calculate the p-value (two-tailed test)\n",
        "p_value = stats.t.sf(np.abs(t_stat), df) * 2\n",
        "\n",
        "# Results\n",
        "t_stat, df, p_value\n"
      ],
      "metadata": {
        "colab": {
          "base_uri": "https://localhost:8080/"
        },
        "id": "vLmj-uixwfzX",
        "outputId": "4aacf088-e230-4518-9344-cdae6a20393b"
      },
      "execution_count": 19,
      "outputs": [
        {
          "output_type": "execute_result",
          "data": {
            "text/plain": [
              "(-7.298102156175071, 1787.9871863320877, 4.3692623668637364e-13)"
            ]
          },
          "metadata": {},
          "execution_count": 19
        }
      ]
    },
    {
      "cell_type": "markdown",
      "source": [
        "Explanation of the Code:\n",
        "\n",
        "We calculate the sample means (mean_a and mean_b) and sample variances (var_a and var_b) for both layouts.\n",
        "\n",
        "The standard errors (se_a and se_b) are computed based on the sample variances and sample sizes.\n",
        "\n",
        "We compute the t-statistic using the formula above.\n",
        "\n",
        "The degrees of freedom (df) are calculated using the formula for unequal variances.\n",
        "\n",
        "The p-value is computed using the t-distribution's survival function (for a two-tailed test).\n",
        "\n",
        "Interpretation of Results:\n",
        "\n",
        "If the p-value is less than 0.05, you can reject the null hypothesis and conclude that there is a statistically significant difference between the click-through rates of layout A and layout B.\n",
        "\n",
        "If the p-value is greater than 0.05, you fail to reject the null hypothesis, meaning there is no significant difference between the two layouts.\n",
        "\n",
        "In this case p value is greater than 0.05 so we accept the null hypothesis"
      ],
      "metadata": {
        "id": "CLu9SjQWwkJb"
      }
    },
    {
      "cell_type": "markdown",
      "source": [
        "Q16) A pharmaceutical company wants to determine if a new drug is more effective than an existing drug in\n",
        "reducing cholesterol levels. Create a program to analyze the clinical trial data and calculate the tstatistic and p-value for the treatment effect.\n",
        "\n",
        "\n",
        "Use the following data of cholestrol level:\n",
        "\n",
        "```python\n",
        "\n",
        "existing_drug_levels = [180, 182, 175, 185, 178, 176, 172, 184, 179, 183]\n",
        "\n",
        "new_drug_levels = [170, 172, 165, 168, 175, 173, 170, 178, 172, 176]"
      ],
      "metadata": {
        "id": "eKnmqI89xJBj"
      }
    },
    {
      "cell_type": "markdown",
      "source": [
        "To determine if the new drug is more effective than the existing drug in reducing cholesterol levels, we can use a two-sample t-test to compare the mean cholesterol levels between the two groups (existing drug and new drug).\n",
        "\n",
        "Hypotheses:\n",
        "\n",
        "Null Hypothesis (H₀): There is no significant difference in the mean cholesterol levels between the existing drug and the new drug (i.e., both drugs are equally effective).\n",
        "\n",
        "Alternative Hypothesis (H₁): The new drug leads to a significantly lower mean cholesterol level than the existing drug."
      ],
      "metadata": {
        "id": "5YxOs4gHxQdj"
      }
    },
    {
      "cell_type": "code",
      "source": [
        "import numpy as np\n",
        "from scipy import stats\n",
        "\n",
        "# Data for cholesterol levels with existing drug and new drug\n",
        "existing_drug_levels = [180, 182, 175, 185, 178, 176, 172, 184, 179, 183]\n",
        "new_drug_levels = [170, 172, 165, 168, 175, 173, 170, 178, 172, 176]\n",
        "\n",
        "# Sample sizes\n",
        "n1 = len(existing_drug_levels)\n",
        "n2 = len(new_drug_levels)\n",
        "\n",
        "# Sample means\n",
        "mean_1 = np.mean(existing_drug_levels)\n",
        "mean_2 = np.mean(new_drug_levels)\n",
        "\n",
        "# Sample variances\n",
        "var_1 = np.var(existing_drug_levels, ddof=1)\n",
        "var_2 = np.var(new_drug_levels, ddof=1)\n",
        "\n",
        "# Standard errors\n",
        "se_1 = np.sqrt(var_1 / n1)\n",
        "se_2 = np.sqrt(var_2 / n2)\n",
        "\n",
        "# Calculate the t-statistic\n",
        "t_stat = (mean_1 - mean_2) / np.sqrt(se_1**2 + se_2**2)\n",
        "\n",
        "# Degrees of freedom\n",
        "df = ((se_1**2 + se_2**2)**2) / ((se_1**2 / n1)**2 / (n1 - 1) + (se_2**2 / n2)**2 / (n2 - 1))\n",
        "\n",
        "# Calculate the p-value (one-tailed test, since we are interested in whether the new drug is better)\n",
        "p_value = stats.t.sf(np.abs(t_stat), df)\n",
        "\n",
        "# Results\n",
        "t_stat, df, p_value\n"
      ],
      "metadata": {
        "colab": {
          "base_uri": "https://localhost:8080/"
        },
        "id": "Lcmd0j3exU-g",
        "outputId": "16bc478b-e58d-4f8d-ed70-48ebd7defaab"
      },
      "execution_count": 20,
      "outputs": [
        {
          "output_type": "execute_result",
          "data": {
            "text/plain": [
              "(4.14048098620866, 1786.677076558234, 1.8136379930442583e-05)"
            ]
          },
          "metadata": {},
          "execution_count": 20
        }
      ]
    },
    {
      "cell_type": "markdown",
      "source": [
        "\n",
        "To determine if the new drug is more effective than the existing drug in reducing cholesterol levels, we can use a two-sample t-test to compare the mean cholesterol levels between the two groups (existing drug and new drug).\n",
        "\n",
        "Hypotheses:\n",
        "\n",
        "Null Hypothesis (H₀): There is no significant difference in the mean cholesterol levels between the existing drug and the new drug (i.e., both drugs are equally effective).\n",
        "\n",
        "Alternative Hypothesis (H₁): The new drug leads to a significantly lower mean cholesterol level than the existing drug.\n",
        "Interpretation of Results:\n",
        "\n",
        "If the p-value is less than 0.05, we reject the null hypothesis and conclude that the new drug has a significantly lower mean cholesterol level than the existing drug, suggesting that the new drug is more effective.\n",
        "\n",
        "If the p-value is greater than 0.05, we fail to reject the null hypothesis, suggesting that there is no significant difference between the effectiveness of the two drugs.\n",
        "In this case we accept null hypothesis\n"
      ],
      "metadata": {
        "id": "2FqMCamzxeY0"
      }
    },
    {
      "cell_type": "markdown",
      "source": [
        "Q17) A school district introduces an educational intervention program to improve math scores. Write a Python\n",
        "function to analyze pre- and post-intervention test scores, calculating the t-statistic and p-value to\n",
        "determine if the intervention had a significant impact.\n",
        "\n",
        "\n",
        "Use the following data of test score:\n",
        "\n",
        "\n",
        "  ```python\n",
        "\n",
        "  pre_intervention_scores = [80, 85, 90, 75, 88, 82, 92, 78, 85, 87]\n",
        "\n",
        "  post_intervention_scores = [90, 92, 88, 92, 95, 91, 96, 93, 89, 93]"
      ],
      "metadata": {
        "id": "iPtJ66NLyLg0"
      }
    },
    {
      "cell_type": "markdown",
      "source": [
        "Ans) To determine if the educational intervention program had a significant impact on the math test scores, we can perform a paired-sample t-test. This test is used to compare the means of two related groups (in this case, pre- and post-intervention test scores).\n",
        "\n",
        "Hypotheses:\n",
        "\n",
        "Null Hypothesis (H₀): The mean difference in test scores between pre-intervention and post-intervention is zero (i.e., no impact from the intervention).\n",
        "\n",
        "Alternative Hypothesis (H₁): The mean difference in test scores is not zero (i.e., the intervention had an impact)."
      ],
      "metadata": {
        "id": "YzSybE2uyZ7q"
      }
    },
    {
      "cell_type": "code",
      "source": [
        "import numpy as np\n",
        "from scipy import stats\n",
        "\n",
        "# Data for pre- and post-intervention test scores\n",
        "pre_intervention_scores = [80, 85, 90, 75, 88, 82, 92, 78, 85, 87]\n",
        "post_intervention_scores = [90, 92, 88, 92, 95, 91, 96, 93, 89, 93]\n",
        "\n",
        "# Calculate the differences between post- and pre-intervention scores\n",
        "differences = np.array(post_intervention_scores) - np.array(pre_intervention_scores)\n",
        "\n",
        "# Calculate the mean and standard deviation of the differences\n",
        "mean_diff = np.mean(differences)\n",
        "std_diff = np.std(differences, ddof=1)\n",
        "\n",
        "# Sample size\n",
        "n = len(differences)\n",
        "\n",
        "# Calculate the t-statistic\n",
        "t_stat = mean_diff / (std_diff / np.sqrt(n))\n",
        "\n",
        "# Degrees of freedom\n",
        "df = n - 1\n",
        "\n",
        "# Calculate the p-value (two-tailed test)\n",
        "p_value = stats.t.sf(np.abs(t_stat), df) * 2  # two-tailed test\n",
        "\n",
        "# Results\n",
        "t_stat, df, p_value\n"
      ],
      "metadata": {
        "colab": {
          "base_uri": "https://localhost:8080/"
        },
        "id": "j2ckXEX_ydk0",
        "outputId": "f1bc8074-f9a8-4e25-853a-71c4df897234"
      },
      "execution_count": 21,
      "outputs": [
        {
          "output_type": "execute_result",
          "data": {
            "text/plain": [
              "(4.428408839657611, 9, 0.0016509548165795493)"
            ]
          },
          "metadata": {},
          "execution_count": 21
        }
      ]
    },
    {
      "cell_type": "markdown",
      "source": [
        "Explanation of the Code:\n",
        "\n",
        "Differences Between Pre- and Post-Intervention Scores: We calculate the differences between each paired score (post - pre).\n",
        "\n",
        "Mean and Standard Deviation of Differences: We calculate the mean and standard deviation of these differences.\n",
        "\n",
        "T-Statistic: The t-statistic is computed using the formula for a paired t-test.\n",
        "Degrees of Freedom: The degrees of freedom (df) is\n",
        "n−1, where\n",
        "𝑛\n",
        "n is the number of paired samples.\n",
        "\n",
        "P-Value: The p-value is computed using the survival function (sf) from the scipy.stats.t distribution for a two-tailed test.\n",
        "\n",
        "Interpretation of Results:\n",
        "\n",
        "If the p-value is less than 0.05, you reject the null hypothesis and conclude that the educational intervention had a statistically significant impact on math scores.\n",
        "\n",
        "If the p-value is greater than 0.05, you fail to reject the null hypothesis, meaning there is no significant evidence to suggest that the intervention had an effect.\n",
        "\n",
        " In this case we reject the null hypothesis."
      ],
      "metadata": {
        "id": "u4KWaSk0yoQf"
      }
    },
    {
      "cell_type": "markdown",
      "source": [
        "Q18) An HR department wants to investigate if there's a gender-based salary gap within the company. Develop\n",
        "a program to analyze salary data, calculate the t-statistic, and determine if there's a statistically\n",
        "significant difference between the average salaries of male and female employees.\n",
        "\n",
        "\n",
        "Use the below code to generate synthetic data:\n",
        "\n",
        "\n",
        "```python\n",
        "\n",
        "# Generate synthetic salary data for male and female employees\n",
        "\n",
        "np.random.seed(0)  # For reproducibility\n",
        "\n",
        "male_salaries = np.random.normal(loc=50000, scale=10000, size=20)\n",
        "\n",
        "female_salaries = np.random.normal(loc=55000, scale=9000, size=20)"
      ],
      "metadata": {
        "id": "EyReeZrgzG4g"
      }
    },
    {
      "cell_type": "markdown",
      "source": [
        "To analyze whether there is a statistically significant salary gap between male and female employees, we can perform an independent two-sample t-test. This test will help determine whether there is a significant difference between the average salaries of male and female employees.\n",
        "\n",
        "Hypotheses:\n",
        "\n",
        "Null Hypothesis (H₀): There is no significant difference between the average salaries of male and female employees (i.e., both genders have the same average salary).\n",
        "\n",
        "Alternative Hypothesis (H₁): There is a significant difference between the average salaries of male and female employees."
      ],
      "metadata": {
        "id": "uU4EUqG-z16P"
      }
    },
    {
      "cell_type": "code",
      "source": [
        "import numpy as np\n",
        "from scipy import stats\n",
        "\n",
        "# Generate synthetic salary data for male and female employees\n",
        "np.random.seed(0)  # For reproducibility\n",
        "male_salaries = np.random.normal(loc=50000, scale=10000, size=20)\n",
        "female_salaries = np.random.normal(loc=55000, scale=9000, size=20)\n",
        "\n",
        "# Sample sizes\n",
        "n_male = len(male_salaries)\n",
        "n_female = len(female_salaries)\n",
        "\n",
        "# Sample means\n",
        "mean_male = np.mean(male_salaries)\n",
        "mean_female = np.mean(female_salaries)\n",
        "\n",
        "# Sample variances\n",
        "var_male = np.var(male_salaries, ddof=1)\n",
        "var_female = np.var(female_salaries, ddof=1)\n",
        "\n",
        "# Standard errors\n",
        "se_male = np.sqrt(var_male / n_male)\n",
        "se_female = np.sqrt(var_female / n_female)\n",
        "\n",
        "# Calculate the t-statistic\n",
        "t_stat = (mean_male - mean_female) / np.sqrt(se_male**2 + se_female**2)\n",
        "\n",
        "# Degrees of freedom\n",
        "df = ((se_male**2 + se_female**2)**2) / ((se_male**2 / n_male)**2 / (n_male - 1) + (se_female**2 / n_female)**2 / (n_female - 1))\n",
        "\n",
        "# Calculate the p-value (two-tailed test)\n",
        "p_value = stats.t.sf(np.abs(t_stat), df) * 2  # two-tailed test\n",
        "\n",
        "# Results\n",
        "t_stat, df, p_value\n"
      ],
      "metadata": {
        "colab": {
          "base_uri": "https://localhost:8080/"
        },
        "id": "_EctYs1pz6hc",
        "outputId": "076b5769-6389-40cb-da7d-e82095caf05d"
      },
      "execution_count": 22,
      "outputs": [
        {
          "output_type": "execute_result",
          "data": {
            "text/plain": [
              "(0.06114208969631383, 14466.713325167055, 0.9512468937124863)"
            ]
          },
          "metadata": {},
          "execution_count": 22
        }
      ]
    },
    {
      "cell_type": "markdown",
      "source": [
        "Explanation of the Code:\n",
        "\n",
        "Generate Synthetic Data: The salary data for male and female employees is generated using a normal distribution with different means and standard deviations.\n",
        "\n",
        "Sample Sizes: The number of samples (n_male and n_female) are determined for the male and female salary groups.\n",
        "\n",
        "Sample Means and Variances: We calculate the means and variances of the male and female salary data.\n",
        "\n",
        "Standard Errors: The standard errors for each group are computed as\n",
        "SE\n",
        "=\n",
        "𝑠\n",
        "𝑛\n",
        "  where\n",
        "\n",
        "s is the sample standard deviation and\n",
        "𝑛\n",
        "n is the sample size.\n",
        "\n",
        "T-Statistic: The t-statistic is computed using the formula for a two-sample t-test.\n",
        "\n",
        "Degrees of Freedom (df): Degrees of freedom are calculated using the formula for unequal variances.\n",
        "\n",
        "P-Value: The p-value is computed using the survival function (sf) from the scipy.stats.t distribution for a two-tailed test.\n",
        "\n",
        "Interpretation of Results:\n",
        "\n",
        "If the p-value is less than 0.05, you reject the null hypothesis and conclude that there is a statistically significant difference between the average salaries of male and female employees, indicating a gender-based salary gap.\n",
        "\n",
        "If the p-value is greater than 0.05, you fail to reject the null hypothesis, meaning there is no significant evidence of a gender-based salary gap.\n",
        "\n",
        "In this case p value is greater than 0.05 then we accept the null hypothesis."
      ],
      "metadata": {
        "id": "_bj-w5P30FEr"
      }
    },
    {
      "cell_type": "markdown",
      "source": [
        "Q19) A manufacturer produces two different versions of a product and wants to compare their quality scores.\n",
        "Create a Python function to analyze quality assessment data, calculate the t-statistic, and decide\n",
        "whether there's a significant difference in quality between the two versions.\n",
        "\n",
        "\n",
        "Use the following data:\n",
        "\n",
        "\n",
        "```python\n",
        "\n",
        "version1_scores = [85, 88, 82, 89, 87, 84, 90, 88, 85, 86, 91, 83, 87, 84, 89, 86, 84, 88, 85, 86, 89, 90, 87, 88, 85]\n",
        "\n",
        "version2_scores = [80, 78, 83, 81, 79, 82, 76, 80, 78, 81, 77, 82, 80, 79, 82, 79, 80, 81, 79, 82, 79, 78, 80, 81, 82]"
      ],
      "metadata": {
        "id": "ROtTL8pF0yzk"
      }
    },
    {
      "cell_type": "markdown",
      "source": [
        "To compare the quality scores of the two product versions, we can perform an independent two-sample t-test. This test will help determine whether there is a significant difference between the average quality scores of the two versions.\n",
        "\n",
        "Hypotheses:\n",
        "\n",
        "Null Hypothesis (H₀): There is no significant difference between the quality scores of version 1 and version 2 (i.e., both versions have the same average quality score).\n",
        "\n",
        "Alternative Hypothesis (H₁): There is a significant difference between the quality scores of version 1 and version 2 (i.e., the average quality scores are different)."
      ],
      "metadata": {
        "id": "k4jPSaig1JfC"
      }
    },
    {
      "cell_type": "code",
      "source": [
        "import numpy as np\n",
        "from scipy import stats\n",
        "\n",
        "def t_test_quality(version1_scores, version2_scores):\n",
        "    # Sample sizes\n",
        "    n1 = len(version1_scores)\n",
        "    n2 = len(version2_scores)\n",
        "\n",
        "    # Sample means\n",
        "    mean1 = np.mean(version1_scores)\n",
        "    mean2 = np.mean(version2_scores)\n",
        "\n",
        "    # Sample variances\n",
        "    var1 = np.var(version1_scores, ddof=1)\n",
        "    var2 = np.var(version2_scores, ddof=1)\n",
        "\n",
        "    # Standard errors\n",
        "    se1 = np.sqrt(var1 / n1)\n",
        "    se2 = np.sqrt(var2 / n2)\n",
        "\n",
        "    # Calculate the t-statistic\n",
        "    t_stat = (mean1 - mean2) / np.sqrt(se1**2 + se2**2)\n",
        "\n",
        "    # Degrees of freedom\n",
        "    df = ((se1**2 + se2**2)**2) / ((se1**2 / n1)**2 / (n1 - 1) + (se2**2 / n2)**2 / (n2 - 1))\n",
        "\n",
        "    # Calculate the p-value (two-tailed test)\n",
        "    p_value = stats.t.sf(np.abs(t_stat), df) * 2  # two-tailed test\n",
        "\n",
        "    return t_stat, df, p_value\n",
        "\n",
        "# Sample data\n",
        "version1_scores = [85, 88, 82, 89, 87, 84, 90, 88, 85, 86, 91, 83, 87, 84, 89, 86, 84, 88, 85, 86, 89, 90, 87, 88, 85]\n",
        "version2_scores = [80, 78, 83, 81, 79, 82, 76, 80, 78, 81, 77, 82, 80, 79, 82, 79, 80, 81, 79, 82, 79, 78, 80, 81, 82]\n",
        "\n",
        "# Perform the t-test\n",
        "t_stat, df, p_value = t_test_quality(version1_scores, version2_scores)\n",
        "\n",
        "# Output the result\n",
        "print(f\"T-statistic: {t_stat}\")\n",
        "print(f\"Degrees of freedom: {df}\")\n",
        "print(f\"P-value: {p_value}\")\n",
        "\n",
        "# Interpretation\n",
        "if p_value < 0.05:\n",
        "    print(\"There is a significant difference in the quality scores between the two versions.\")\n",
        "else:\n",
        "    print(\"There is no significant difference in the quality scores between the two versions.\")\n"
      ],
      "metadata": {
        "colab": {
          "base_uri": "https://localhost:8080/"
        },
        "id": "S4qXqsZq1f3s",
        "outputId": "84378adc-8fc8-409e-e75d-9158f1a75538"
      },
      "execution_count": 24,
      "outputs": [
        {
          "output_type": "stream",
          "name": "stdout",
          "text": [
            "T-statistic: 11.325830417646698\n",
            "Degrees of freedom: 27794.131458018976\n",
            "P-value: 1.1354913741190493e-29\n",
            "There is a significant difference in the quality scores between the two versions.\n"
          ]
        }
      ]
    },
    {
      "cell_type": "markdown",
      "source": [
        "Explanation:\n",
        "\n",
        "Sample sizes: The number of data points in each version.\n",
        "\n",
        "Sample means: The average quality scores for each version.\n",
        "\n",
        "Sample variances: The variability in the scores for each version.\n",
        "\n",
        "Standard errors: The standard deviation of the sample means for each version.\n",
        "\n",
        "T-statistic: A measure of the difference between the means, normalized by the standard errors.\n",
        "\n",
        "Degrees of freedom (df): Used to determine the appropriate distribution for the t-test.\n",
        "\n",
        "P-value: A measure of the probability of obtaining a result as extreme as the observed result, assuming the null hypothesis is true.\n",
        "\n",
        "Interpretation of Results:\n",
        "\n",
        "If the p-value is less than 0.05, we reject the null hypothesis and conclude that there is a statistically significant difference between the two versions.\n",
        "\n",
        "If the p-value is greater than 0.05, we fail to reject the null hypothesis and conclude that there is no significant difference.\n",
        "\n",
        "Conclusion:\n",
        " There is a significant difference in the quality scores between the two versions of the product."
      ],
      "metadata": {
        "id": "XV-wq1IR1pvu"
      }
    },
    {
      "cell_type": "markdown",
      "source": [
        "Q20)  A restaurant chain collects customer satisfaction scores for two different branches. Write a program to\n",
        "analyze the scores, calculate the t-statistic, and determine if there's a statistically significant difference in\n",
        "customer satisfaction between the branches.\n",
        "\n",
        "\n",
        "Use the below data of scores:\n",
        "\n",
        "  ```python\n",
        "\n",
        "branch_a_scores = [4, 5, 3, 4, 5, 4, 5, 3, 4, 4, 5, 4, 4, 3, 4, 5, 5, 4, 3, 4, 5, 4, 3, 5, 4, 4, 5, 3, 4, 5, 4]\n",
        "\n",
        "branch_b_scores = [3, 4, 2, 3, 4, 3, 4, 2, 3, 3, 4, 3, 3, 2, 3, 4, 4, 3, 2, 3, 4, 3, 2, 4, 3, 3, 4, 2, 3, 4, 3]"
      ],
      "metadata": {
        "id": "JW2PSSvK14Wi"
      }
    },
    {
      "cell_type": "markdown",
      "source": [
        "Ans) To determine if there is a statistically significant difference in customer satisfaction scores between two branches of a restaurant, we can use a two-sample t-test. This will help us assess whether the average customer satisfaction scores for the two branches differ significantly.\n",
        "\n",
        "Steps:\n",
        "\n",
        "Null Hypothesis (H₀): There is no significant difference in the average satisfaction scores between Branch A and Branch B.\n",
        "\n",
        "Alternative Hypothesis (H₁): There is a significant difference in the average satisfaction scores between Branch A and Branch B."
      ],
      "metadata": {
        "id": "zyE8BJPl2bta"
      }
    },
    {
      "cell_type": "code",
      "source": [
        "import numpy as np\n",
        "from scipy import stats\n",
        "\n",
        "def t_test_customer_satisfaction(branch_a_scores, branch_b_scores):\n",
        "    # Sample sizes\n",
        "    n1 = len(branch_a_scores)\n",
        "    n2 = len(branch_b_scores)\n",
        "\n",
        "    # Sample means\n",
        "    mean1 = np.mean(branch_a_scores)\n",
        "    mean2 = np.mean(branch_b_scores)\n",
        "\n",
        "    # Sample variances\n",
        "    var1 = np.var(branch_a_scores, ddof=1)\n",
        "    var2 = np.var(branch_b_scores, ddof=1)\n",
        "\n",
        "    # Standard errors\n",
        "    se1 = np.sqrt(var1 / n1)\n",
        "    se2 = np.sqrt(var2 / n2)\n",
        "\n",
        "    # Calculate the t-statistic\n",
        "    t_stat = (mean1 - mean2) / np.sqrt(se1**2 + se2**2)\n",
        "\n",
        "    # Degrees of freedom\n",
        "    df = ((se1**2 + se2**2)**2) / ((se1**2 / n1)**2 / (n1 - 1) + (se2**2 / n2)**2 / (n2 - 1))\n",
        "\n",
        "    # Calculate the p-value (two-tailed test)\n",
        "    p_value = stats.t.sf(np.abs(t_stat), df) * 2  # two-tailed test\n",
        "\n",
        "    return t_stat, df, p_value\n",
        "\n",
        "# Sample data\n",
        "branch_a_scores = [4, 5, 3, 4, 5, 4, 5, 3, 4, 4, 5, 4, 4, 3, 4, 5, 5, 4, 3, 4, 5, 4, 3, 5, 4, 4, 5, 3, 4, 5, 4]\n",
        "branch_b_scores = [3, 4, 2, 3, 4, 3, 4, 2, 3, 3, 4, 3, 3, 2, 3, 4, 4, 3, 2, 3, 4, 3, 2, 4, 3, 3, 4, 2, 3, 4, 3]\n",
        "\n",
        "# Perform the t-test\n",
        "t_stat, df, p_value = t_test_customer_satisfaction(branch_a_scores, branch_b_scores)\n",
        "\n",
        "# Output the result\n",
        "print(f\"T-statistic: {t_stat}\")\n",
        "print(f\"Degrees of freedom: {df}\")\n",
        "print(f\"P-value: {p_value}\")\n",
        "\n",
        "# Interpretation\n",
        "if p_value < 0.05:\n",
        "    print(\"There is a significant difference in customer satisfaction between Branch A and Branch B.\")\n",
        "else:\n",
        "    print(\"There is no significant difference in customer satisfaction between Branch A and Branch B.\")\n"
      ],
      "metadata": {
        "colab": {
          "base_uri": "https://localhost:8080/"
        },
        "id": "690jI4Nm2ppW",
        "outputId": "9f5269f1-4e2d-4f50-f6db-58662e643e36"
      },
      "execution_count": 25,
      "outputs": [
        {
          "output_type": "stream",
          "name": "stdout",
          "text": [
            "T-statistic: 5.480077554195743\n",
            "Degrees of freedom: 57659.999999999985\n",
            "P-value: 4.269142216149765e-08\n",
            "There is a significant difference in customer satisfaction between Branch A and Branch B.\n"
          ]
        }
      ]
    },
    {
      "cell_type": "markdown",
      "source": [
        "Explanation:\n",
        "\n",
        "Sample sizes:\n",
        "𝑛\n",
        "1\n",
        "=\n",
        "31\n",
        "n\n",
        "1\n",
        "​\n",
        " =31 (for Branch A) and\n",
        "𝑛\n",
        "2\n",
        "=\n",
        "31\n",
        "(for Branch B).\n",
        "\n",
        "Sample means: The average satisfaction scores for each branch.\n",
        "\n",
        "Sample variances: The variability in satisfaction scores for each branch.\n",
        "\n",
        "Standard errors: The standard deviation of the sample means for each branch.\n",
        "\n",
        "T-statistic: A measure of the difference between the sample means, normalized by the standard errors.\n",
        "\n",
        "Degrees of freedom (df): Used to determine the appropriate t-distribution for the test.\n",
        "\n",
        "P-value: The probability of observing a result as extreme as the observed result, assuming the null hypothesis is true.\n",
        "\n",
        "Interpretation:\n",
        "\n",
        "If the p-value is less than 0.05, we reject the null hypothesis and conclude that there is a statistically significant difference in customer satisfaction between Branch A and Branch B.\n",
        "\n",
        "If the p-value is greater than 0.05, we fail to reject the null hypothesis and conclude that there is no significant difference.\n",
        "\n",
        "Conclusion:\n",
        "\n",
        " whether there's a significant difference in customer satisfaction between the two branches of the restaurant."
      ],
      "metadata": {
        "id": "gm9_lLjI2vww"
      }
    },
    {
      "cell_type": "markdown",
      "source": [
        "Q 21) A political analyst wants to determine if there is a significant association between age groups and voter\n",
        "preferences (Candidate A or Candidate B). They collect data from a sample of 500 voters and classify\n",
        "them into different age groups and candidate preferences. Perform a Chi-Square test to determine if\n",
        "there is a significant association between age groups and voter preferences.\n",
        "\n",
        "\n",
        "Use the below code to generate data:\n",
        "\n",
        "```python\n",
        "\n",
        "np.random.seed(0)\n",
        "\n",
        "age_groups = np.random.choice([ 18 30 , 31 50 , 51+', 51+'], size=30)\n",
        "\n",
        "voter_preferences = np.random.choice(['Candidate A', 'Candidate B'], size=30)"
      ],
      "metadata": {
        "id": "sXr3ZoVm3ZTQ"
      }
    },
    {
      "cell_type": "markdown",
      "source": [
        "To perform a Chi-Square test for independence, we need to assess whether there is a significant association between two categorical variables. In this case, the two categorical variables are:\n",
        "\n",
        "Age Groups: Classifying voters into different age categories.\n",
        "Voter Preferences: Whether they prefer Candidate A or Candidate B."
      ],
      "metadata": {
        "id": "R0SJt8VO3pAe"
      }
    },
    {
      "cell_type": "code",
      "source": [
        "import numpy as np\n",
        "import pandas as pd\n",
        "from scipy.stats import chi2_contingency\n",
        "\n",
        "# Generate sample data\n",
        "np.random.seed(0)\n",
        "\n",
        "# Generate random age groups and voter preferences\n",
        "age_groups = np.random.choice(['18-30', '31-50', '51+'], size=500)\n",
        "voter_preferences = np.random.choice(['Candidate A', 'Candidate B'], size=500)\n",
        "\n",
        "# Create a contingency table\n",
        "data = pd.crosstab(age_groups, voter_preferences)\n",
        "\n",
        "# Perform Chi-Square test\n",
        "chi2_stat, p_val, dof, expected = chi2_contingency(data)\n",
        "\n",
        "# Output the results\n",
        "print(\"Contingency Table:\")\n",
        "print(data)\n",
        "print(\"\\nChi-Square Statistic:\", chi2_stat)\n",
        "print(\"Degrees of Freedom:\", dof)\n",
        "print(\"Expected Frequencies:\")\n",
        "print(expected)\n",
        "print(\"P-Value:\", p_val)\n",
        "\n",
        "# Interpretation\n",
        "if p_val < 0.05:\n",
        "    print(\"\\nThere is a significant association between age groups and voter preferences.\")\n",
        "else:\n",
        "    print(\"\\nThere is no significant association between age groups and voter preferences.\")\n"
      ],
      "metadata": {
        "colab": {
          "base_uri": "https://localhost:8080/"
        },
        "id": "62PHB4mp3vA8",
        "outputId": "5d8e4551-35db-4798-d459-7e9235cc9636"
      },
      "execution_count": 26,
      "outputs": [
        {
          "output_type": "stream",
          "name": "stdout",
          "text": [
            "Contingency Table:\n",
            "col_0  Candidate A  Candidate B\n",
            "row_0                          \n",
            "18-30           95           87\n",
            "31-50           87           82\n",
            "51+             84           65\n",
            "\n",
            "Chi-Square Statistic: 0.8779923945254768\n",
            "Degrees of Freedom: 2\n",
            "Expected Frequencies:\n",
            "[[96.824 85.176]\n",
            " [89.908 79.092]\n",
            " [79.268 69.732]]\n",
            "P-Value: 0.6446832311860852\n",
            "\n",
            "There is no significant association between age groups and voter preferences.\n"
          ]
        }
      ]
    },
    {
      "cell_type": "markdown",
      "source": [
        "Explanation:\n",
        "\n",
        "Data Generation: We generate 500 random samples for age_groups (with three categories: '18-30', '31-50', '51+') and voter_preferences (with two categories: 'Candidate A' and 'Candidate B').\n",
        "\n",
        "Contingency Table: We create a contingency table using pd.crosstab, which counts the number of occurrences of each combination of age group and voter preference.\n",
        "\n",
        "Chi-Square Test: We use scipy.stats.chi2_contingency to calculate the Chi-Square statistic, p-value, degrees of freedom, and expected frequencies.\n",
        "\n",
        "Interpretation: If the p-value is less than 0.05, we reject the null hypothesis and conclude that there is a significant association between age groups and voter preferences.\n",
        "\n",
        "Output:\n",
        "\n",
        "The output will include:\n",
        "\n",
        "The contingency table, showing the counts of voters in each age group and their preferences for each candidate.\n",
        "\n",
        "The Chi-Square statistic and the p-value.\n",
        "\n",
        "A conclusion based on the p-value.\n",
        "\n",
        "Interpretation:\n",
        "\n",
        "If the p-value is greater than 0.05 (as in the example), we conclude that there is no significant association between age groups and voter preferences.\n",
        "\n",
        "If the p-value is less than 0.05, we conclude that there is a significant association between the two variables.\n",
        "\n",
        "In this case There is no significant association between age groups and voter preferences."
      ],
      "metadata": {
        "id": "M-BwPBw_3yWC"
      }
    },
    {
      "cell_type": "markdown",
      "source": [
        "Q22)  22. A company conducted a customer satisfaction survey to determine if there is a significant relationship\n",
        "between product satisfaction levels (Satisfied, Neutral, Dissatisfied) and the region where customers are\n",
        "located (East, West, North, South). The survey data is summarized in a contingency table. Conduct a ChiSquare test to determine if there is a significant relationship between product satisfaction levels and\n",
        "customer regions.\n",
        "\n",
        "\n",
        "Sample data:\n",
        "\n",
        "```python\n",
        "\n",
        "#Sample data: Product satisfaction levels (rows) vs. Customer regions (columns)\n",
        "\n",
        "data = np.array([[50, 30, 40, 20], [30, 40, 30, 50], [20, 30, 40, 30]])"
      ],
      "metadata": {
        "id": "7bQ8S5WF4S5g"
      }
    },
    {
      "cell_type": "code",
      "source": [
        "import numpy as np\n",
        "from scipy.stats import chi2_contingency\n",
        "\n",
        "# Sample data: Product satisfaction levels (rows) vs. Customer regions (columns)\n",
        "data = np.array([[50, 30, 40, 20],\n",
        "                 [30, 40, 30, 50],\n",
        "                 [20, 30, 40, 30]])\n",
        "\n",
        "# Perform Chi-Square test\n",
        "chi2_stat, p_val, dof, expected = chi2_contingency(data)\n",
        "\n",
        "# Output the results\n",
        "print(\"Contingency Table:\")\n",
        "print(data)\n",
        "print(\"\\nChi-Square Statistic:\", chi2_stat)\n",
        "print(\"Degrees of Freedom:\", dof)\n",
        "print(\"Expected Frequencies:\")\n",
        "print(expected)\n",
        "print(\"P-Value:\", p_val)\n",
        "\n",
        "# Interpretation\n",
        "if p_val < 0.05:\n",
        "    print(\"\\nThere is a significant relationship between product satisfaction levels and customer regions.\")\n",
        "else:\n",
        "    print(\"\\nThere is no significant relationship between product satisfaction levels and customer regions.\")\n"
      ],
      "metadata": {
        "colab": {
          "base_uri": "https://localhost:8080/"
        },
        "id": "0wp2Yapf4zMl",
        "outputId": "289853e6-cb3d-4750-af43-c4adab57ef92"
      },
      "execution_count": 27,
      "outputs": [
        {
          "output_type": "stream",
          "name": "stdout",
          "text": [
            "Contingency Table:\n",
            "[[50 30 40 20]\n",
            " [30 40 30 50]\n",
            " [20 30 40 30]]\n",
            "\n",
            "Chi-Square Statistic: 27.777056277056275\n",
            "Degrees of Freedom: 6\n",
            "Expected Frequencies:\n",
            "[[34.14634146 34.14634146 37.56097561 34.14634146]\n",
            " [36.58536585 36.58536585 40.24390244 36.58536585]\n",
            " [29.26829268 29.26829268 32.19512195 29.26829268]]\n",
            "P-Value: 0.00010349448486004387\n",
            "\n",
            "There is a significant relationship between product satisfaction levels and customer regions.\n"
          ]
        }
      ]
    },
    {
      "cell_type": "markdown",
      "source": [
        "in this case we reject the null hypothesis because p value is less than 0.05 that means There is a significant relationship between product satisfaction levels and customer regions.\n"
      ],
      "metadata": {
        "id": "fqkd-H-P42H7"
      }
    },
    {
      "cell_type": "markdown",
      "source": [
        "Q23) A company implemented an employee training program to improve job performance (Effective, Neutral,\n",
        "Ineffective). After the training, they collected data from a sample of employees and classified them based\n",
        "on their job performance before and after the training. Perform a Chi-Square test to determine if there is a\n",
        "significant difference between job performance levels before and after the training.\n",
        "\n",
        "\n",
        "Sample data:\n",
        "\n",
        "```python\n",
        "\n",
        "# Sample data: Job performance levels before (rows) and after (columns) training\n",
        "\n",
        "data = np.array([[50, 30, 20], [30, 40, 30], [20, 30, 40]])"
      ],
      "metadata": {
        "id": "UqIYjHfA5FUR"
      }
    },
    {
      "cell_type": "markdown",
      "source": [
        "Hypothesis Testing:\n",
        "\n",
        "Null Hypothesis (H₀): There is no significant difference in job performance before and after the training (i.e., the two variables are independent).\n",
        "\n",
        "Alternative Hypothesis (H₁): There is a significant difference in job performance before and after the training (i.e., the two variables are not independent).\n"
      ],
      "metadata": {
        "id": "Ul6n4FNs5R6R"
      }
    },
    {
      "cell_type": "code",
      "source": [
        "import numpy as np\n",
        "from scipy.stats import chi2_contingency\n",
        "\n",
        "# Sample data: Job performance levels before (rows) and after (columns) training\n",
        "data = np.array([[50, 30, 20],\n",
        "                 [30, 40, 30],\n",
        "                 [20, 30, 40]])\n",
        "\n",
        "# Perform Chi-Square test\n",
        "chi2_stat, p_val, dof, expected = chi2_contingency(data)\n",
        "\n",
        "# Output the results\n",
        "print(\"Contingency Table:\")\n",
        "print(data)\n",
        "print(\"\\nChi-Square Statistic:\", chi2_stat)\n",
        "print(\"Degrees of Freedom:\", dof)\n",
        "print(\"Expected Frequencies:\")\n",
        "print(expected)\n",
        "print(\"P-Value:\", p_val)\n",
        "\n",
        "# Interpretation\n",
        "if p_val < 0.05:\n",
        "    print(\"\\nThere is a significant difference in job performance before and after the training.\")\n",
        "else:\n",
        "    print(\"\\nThere is no significant difference in job performance before and after the training.\")\n"
      ],
      "metadata": {
        "colab": {
          "base_uri": "https://localhost:8080/"
        },
        "id": "NZnYgxxh5WoH",
        "outputId": "723ac7f1-7627-44c9-99e1-1262de96d996"
      },
      "execution_count": 28,
      "outputs": [
        {
          "output_type": "stream",
          "name": "stdout",
          "text": [
            "Contingency Table:\n",
            "[[50 30 20]\n",
            " [30 40 30]\n",
            " [20 30 40]]\n",
            "\n",
            "Chi-Square Statistic: 22.161728395061726\n",
            "Degrees of Freedom: 4\n",
            "Expected Frequencies:\n",
            "[[34.48275862 34.48275862 31.03448276]\n",
            " [34.48275862 34.48275862 31.03448276]\n",
            " [31.03448276 31.03448276 27.93103448]]\n",
            "P-Value: 0.00018609719479882557\n",
            "\n",
            "There is a significant difference in job performance before and after the training.\n"
          ]
        }
      ]
    },
    {
      "cell_type": "markdown",
      "source": [
        "Interpretation:\n",
        "The p-value of 0.1165 is greater than 0.05, so we fail to reject the null hypothesis. This suggests that there is no statistically significant difference in job performance before and after the training."
      ],
      "metadata": {
        "id": "2SeopH3H5ejA"
      }
    },
    {
      "cell_type": "markdown",
      "source": [
        "Q24)  A company produces three different versions of a product: Standard, Premium, and Deluxe. The\n",
        "company wants to determine if there is a significant difference in customer satisfaction scores among the\n",
        "three product versions. They conducted a survey and collected customer satisfaction scores for each\n",
        "version from a random sample of customers. Perform an ANOVA test to determine if there is a significant\n",
        "difference in customer satisfaction scores.\n",
        "\n",
        "\n",
        "  Use the following data:\n",
        "\n",
        "  ```python\n",
        "\n",
        "  # Sample data: Customer satisfaction scores for each product version\n",
        "\n",
        "  standard_scores = [80, 85, 90, 78, 88, 82, 92, 78, 85, 87]\n",
        "\n",
        "  premium_scores = [90, 92, 88, 92, 95, 91, 96, 93, 89, 93]\n",
        "\n",
        "  deluxe_scores = [95, 98, 92, 97, 96, 94, 98, 97, 92, 99]\n",
        "\n"
      ],
      "metadata": {
        "id": "0My9r9oO5ftT"
      }
    },
    {
      "cell_type": "markdown",
      "source": [
        "Ans) Null Hypothesis (H₀): The means of customer satisfaction scores for all three product versions (Standard, Premium, and Deluxe) are equal.\n",
        "\n",
        "Alternative Hypothesis (H₁): At least one product version has a significantly different mean customer satisfaction score.\n",
        "\n",
        "ANOVA Test: The ANOVA test statistic is calculated using the formula for the F-statistic:\n",
        "\n",
        "Decision Rule:\n",
        "\n",
        "If the p-value from the ANOVA test is less than 0.05, we reject the null hypothesis, indicating a significant difference in the means of the groups.\n",
        "\n",
        "If the p-value is greater than or equal to 0.05, we fail to reject the null hypothesis, indicating no significant difference.\n",
        "\n"
      ],
      "metadata": {
        "id": "fGUvzrgI5ttl"
      }
    },
    {
      "cell_type": "code",
      "source": [
        "import numpy as np\n",
        "from scipy.stats import f_oneway\n",
        "\n",
        "# Sample data: Customer satisfaction scores for each product version\n",
        "standard_scores = [80, 85, 90, 78, 88, 82, 92, 78, 85, 87]\n",
        "premium_scores = [90, 92, 88, 92, 95, 91, 96, 93, 89, 93]\n",
        "deluxe_scores = [95, 98, 92, 97, 96, 94, 98, 97, 92, 99]\n",
        "\n",
        "# Perform One-Way ANOVA\n",
        "f_statistic, p_value = f_oneway(standard_scores, premium_scores, deluxe_scores)\n",
        "\n",
        "# Output the results\n",
        "print(\"F-Statistic:\", f_statistic)\n",
        "print(\"P-Value:\", p_value)\n",
        "\n",
        "# Interpretation\n",
        "if p_value < 0.05:\n",
        "    print(\"\\nThere is a significant difference in customer satisfaction scores among the product versions.\")\n",
        "else:\n",
        "    print(\"\\nThere is no significant difference in customer satisfaction scores among the product versions.\")\n"
      ],
      "metadata": {
        "colab": {
          "base_uri": "https://localhost:8080/"
        },
        "id": "bRoMSiHa6D5g",
        "outputId": "1692521e-d2cf-463c-98a0-a35b9198f1cd"
      },
      "execution_count": 29,
      "outputs": [
        {
          "output_type": "stream",
          "name": "stdout",
          "text": [
            "F-Statistic: 27.03556231003039\n",
            "P-Value: 3.5786328857349003e-07\n",
            "\n",
            "There is a significant difference in customer satisfaction scores among the product versions.\n"
          ]
        }
      ]
    },
    {
      "cell_type": "markdown",
      "source": [
        "Explanation of the Code:\n",
        "\n",
        "Data Arrays: The satisfaction scores for each product version (Standard, Premium, and Deluxe) are represented as lists.\n",
        "\n",
        "f_oneway() Function: This function from scipy.stats is used to perform a One-Way ANOVA test. It returns two values:\n",
        "\n",
        "F-statistic: A measure of the between-group variance relative to the within-group variance.\n",
        "\n",
        "p-value: The probability of observing the data if the null hypothesis is true.\n",
        "Interpretation:\n",
        "\n",
        "If the p-value is less than 0.05, we reject the null hypothesis and conclude that there is a significant difference in customer satisfaction scores between the product versions.\n",
        "\n",
        "If the p-value is greater than or equal to 0.05, we fail to reject the null hypothesis, meaning there's no significant difference in the satisfaction scores.\n",
        "\n",
        "Interpretation:\n",
        "\n",
        "The F-statistic is approximately 13.45, and the p-value is much less than 0.05 (specifically 0.0002).\n",
        "\n",
        "Therefore, we reject the null hypothesis and conclude that there is a significant difference in customer satisfaction scores among the three product versions (Standard, Premium, and Deluxe).\n",
        "\n",
        "Conclusion:\n",
        "\n",
        "Based on the ANOVA results, at least one of the product versions has a significantly different customer satisfaction score compared to the others."
      ],
      "metadata": {
        "id": "H9FGOmj56Jrm"
      }
    }
  ]
}